{
 "cells": [
  {
   "cell_type": "code",
   "execution_count": 1,
   "outputs": [],
   "source": [
    "import json"
   ],
   "metadata": {
    "collapsed": false,
    "pycharm": {
     "name": "#%%\n"
    }
   }
  },
  {
   "cell_type": "code",
   "execution_count": 2,
   "metadata": {
    "collapsed": true
   },
   "outputs": [],
   "source": [
    "FN1 = '500+ awesome bookmarks for Data Science  Machine Learning by Udit Ranjan Towards Data Science.json'\n",
    "FN2 = 'Bookmarks to the selected Deep Learning _ Machine Learning Resources on the Web by Murat Karakaya Deep Learning Tutorials with Keras Medium.json'\n",
    "data = []\n",
    "for fn in FN1, FN2:\n",
    "    with open(fn, 'rt', encoding='utf-8') as fp:\n",
    "        data.append(json.load(fp))"
   ]
  },
  {
   "cell_type": "code",
   "execution_count": 7,
   "outputs": [],
   "source": [
    "tags = []\n",
    "aa = []\n",
    "for h1 in data[0]:\n",
    "    t1 = h1['h1']\n",
    "    tags.append(t1)\n",
    "    for a in h1['aa']:\n",
    "        aa.append({\n",
    "            'title': a[0],\n",
    "            'href': a[1],\n",
    "            'tags': [t1]\n",
    "        })\n",
    "    for h2 in h1['hh2']:\n",
    "        t2 = h2['h2']\n",
    "        tags.append(t2)\n",
    "        for a in h2['aa']:\n",
    "            aa.append({\n",
    "                'title': a[0],\n",
    "                'href': a[1],\n",
    "                'tags': [t1, t2]\n",
    "            })\n",
    "for h1 in data[1]:\n",
    "    t1 = h1['h1']\n",
    "    tags.append(t1)\n",
    "    for a in h1['aa']:\n",
    "        aa.append({\n",
    "            'title': a[0],\n",
    "            'href': a[1],\n",
    "            'tags': [t1]\n",
    "        })\n",
    "tags = sorted(tags)\n",
    "with open('tags.json', 'wt', encoding='utf-8') as fp:\n",
    "    json.dump(tags, fp, indent=4)\n",
    "with open('bookmarks.json', 'wt', encoding='utf-8') as fp:\n",
    "    json.dump(aa, fp, indent=4, sort_keys=True)"
   ],
   "metadata": {
    "collapsed": false,
    "pycharm": {
     "name": "#%%\n"
    }
   }
  },
  {
   "cell_type": "code",
   "execution_count": null,
   "outputs": [],
   "source": [],
   "metadata": {
    "collapsed": false,
    "pycharm": {
     "name": "#%%\n"
    }
   }
  }
 ],
 "metadata": {
  "kernelspec": {
   "display_name": "Python 3",
   "language": "python",
   "name": "python3"
  },
  "language_info": {
   "codemirror_mode": {
    "name": "ipython",
    "version": 2
   },
   "file_extension": ".py",
   "mimetype": "text/x-python",
   "name": "python",
   "nbconvert_exporter": "python",
   "pygments_lexer": "ipython2",
   "version": "2.7.6"
  }
 },
 "nbformat": 4,
 "nbformat_minor": 0
}